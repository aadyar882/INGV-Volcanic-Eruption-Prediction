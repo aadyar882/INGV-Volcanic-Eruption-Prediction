def test_models_cs(): 
    models_cs = dict
    for c in arrange(0.1, 0.2, 0.3)
        key = 
        models_cs[key] = xgb.XGBRFRegressor(n_estimators = 500,
                           learning_rate = 0.05, 
                           reg_lambda = 0.1,
                           eval_metric = mse, 
                           subsample = 0.9, 
                           colsample_bynode = c)
    return models_cs

def test_models_ne(): 
    models_ne = dict
    for n in arrange(100, 500, 1000)
        key = 
        models_ne[key] = xgb.XGBRFRegressor(n_estimators = n,
                           learning_rate = 0.05, 
                           reg_lambda = 0.1,
                           eval_metric = mse, 
                           subsample = 0.9, 
                           colsample_bynode = 0.1)
    return models_ne

def test_models_lr(): 
    models_lr = dict
    for l in [0.05, 0.1, 0.2, 0.5]
        key = 
        models_lr[key] = xgb.XGBRFRegressor(n_estimators = 500,
                           learning_rate = 0.05, 
                           reg_lambda = l,
                           eval_metric = mse, 
                           subsample = 0.9, 
                           colsample_bynode = 0.1)
    return models_lr
    
def model_eval(model, X, y): 
    cross_val = RepeatedStratifiedKFold(n_splits = 10, n_repeats = 3)
    scores = cross_val_scores(model, X, y, scoring = 'accuracy', cv = cross_val)
    return scores
    
models_cs = test_models_cs()
results_cs, names_cs = list(), list()
for name, model in models_cs.items(): 
    scores_cs = model_eval(model, reduced_train, reduced_y)
    results_cs.append(scores_cs)
    names_cs.append(name)

models_ne = test_models_ne()
results_ne, names_ne = list(), list()
for name, model in models_ne.items(): 
    scores_ne = model_eval(model, reduced_train, reduced_y)
    results_ne.append(scores_ne)
    names_ne.append(name)
    
models_lr = test_models_ne()
results_lr, names_lr = list(), list()
for name, model in models_lr.items(): 
    scores_lr = model_eval(model, reduced_train, reduced_y)
    results_lr.append(scores_lr)
    names_lr.append(name)
